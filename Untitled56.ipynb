{
 "cells": [
  {
   "cell_type": "code",
   "execution_count": 2,
   "id": "a5e8f434",
   "metadata": {},
   "outputs": [
    {
     "name": "stdout",
     "output_type": "stream",
     "text": [
      "lawraggAlanuK\n"
     ]
    }
   ],
   "source": [
    "s=\"KunalAggarwal\"\n",
    "reverse_s=s[::-1]\n",
    "print(reverse_s)"
   ]
  },
  {
   "cell_type": "code",
   "execution_count": 3,
   "id": "d42d609c",
   "metadata": {},
   "outputs": [
    {
     "name": "stdout",
     "output_type": "stream",
     "text": [
      "Sring is not palindrome\n"
     ]
    }
   ],
   "source": [
    "def isPalindrome(s):\n",
    "    return s==s[::-1]\n",
    "\n",
    "s=\"Kunal\"\n",
    "res=isPalindrome(s)\n",
    "if res:\n",
    "    print(\"String is palindrome\")\n",
    "else:\n",
    "    print(\"Sring is not palindrome\")"
   ]
  },
  {
   "cell_type": "code",
   "execution_count": 4,
   "id": "305ea376",
   "metadata": {},
   "outputs": [
    {
     "name": "stdout",
     "output_type": "stream",
     "text": [
      "28\n"
     ]
    }
   ],
   "source": [
    "l=[5,4,9,28,10,20,12,7]\n",
    "l.sort()\n",
    "print(l[-1])"
   ]
  },
  {
   "cell_type": "code",
   "execution_count": 5,
   "id": "4aa78c06",
   "metadata": {},
   "outputs": [
    {
     "name": "stdout",
     "output_type": "stream",
     "text": [
      "{1: 1, 2: 1, 3: 1, 4: 2, 5: 2, 6: 3, 7: 1, 8: 2}\n"
     ]
    }
   ],
   "source": [
    "def freq(l):\n",
    "    counts={}\n",
    "    for i in l:\n",
    "        if i in counts:\n",
    "            counts[i]+=1\n",
    "        else:\n",
    "            counts[i]=1\n",
    "    return counts\n",
    "\n",
    "l=[1,2,3,4,4,5,5,6,6,6,7,8,8]\n",
    "counts=freq(l)\n",
    "print(counts)"
   ]
  },
  {
   "cell_type": "code",
   "execution_count": 6,
   "id": "febb2bdc",
   "metadata": {},
   "outputs": [
    {
     "name": "stdout",
     "output_type": "stream",
     "text": [
      "20\n"
     ]
    }
   ],
   "source": [
    "l=[5,4,9,28,10,20,12,7]\n",
    "l.sort()\n",
    "print(l[-2])"
   ]
  },
  {
   "cell_type": "code",
   "execution_count": 7,
   "id": "dd8fac85",
   "metadata": {},
   "outputs": [
    {
     "data": {
      "text/plain": [
       "{1, 2, 3, 4, 5}"
      ]
     },
     "execution_count": 7,
     "metadata": {},
     "output_type": "execute_result"
    }
   ],
   "source": [
    "def duplicate(l):\n",
    "    return set(l)\n",
    "\n",
    "l=[1,2,2,3,3,3,4,5]\n",
    "duplicate(l)"
   ]
  },
  {
   "cell_type": "code",
   "execution_count": 8,
   "id": "5fad0b9f",
   "metadata": {},
   "outputs": [
    {
     "data": {
      "text/plain": [
       "120"
      ]
     },
     "execution_count": 8,
     "metadata": {},
     "output_type": "execute_result"
    }
   ],
   "source": [
    "def fact(n):\n",
    "    if n==1:\n",
    "        return 1\n",
    "    else:\n",
    "        return n*fact(n-1)\n",
    "    \n",
    "fact(5)"
   ]
  },
  {
   "cell_type": "code",
   "execution_count": 9,
   "id": "05fe3738",
   "metadata": {},
   "outputs": [
    {
     "name": "stdout",
     "output_type": "stream",
     "text": [
      "True\n",
      "False\n"
     ]
    }
   ],
   "source": [
    "import math\n",
    "def isPrime(n):\n",
    "    if n<2:\n",
    "        return False\n",
    "    i=2\n",
    "    while i*i<=n:\n",
    "        if n%i==0:\n",
    "            return False\n",
    "        i+=1\n",
    "    return True\n",
    "\n",
    "print(isPrime(7))\n",
    "print(isPrime(8))"
   ]
  },
  {
   "cell_type": "code",
   "execution_count": 10,
   "id": "b97cf3d0",
   "metadata": {},
   "outputs": [
    {
     "name": "stdout",
     "output_type": "stream",
     "text": [
      "[4, 5, 7, 9, 10, 12, 20, 28]\n"
     ]
    }
   ],
   "source": [
    "l=[9,4,5,28,10,20,12,7]\n",
    "l.sort()\n",
    "print(l)"
   ]
  },
  {
   "cell_type": "code",
   "execution_count": 11,
   "id": "0da26000",
   "metadata": {},
   "outputs": [
    {
     "name": "stdout",
     "output_type": "stream",
     "text": [
      "95\n"
     ]
    }
   ],
   "source": [
    "l=[9,4,5,28,10,20,12,7]\n",
    "l=sum(l)\n",
    "print(l)"
   ]
  },
  {
   "cell_type": "code",
   "execution_count": 12,
   "id": "e4416d0c",
   "metadata": {},
   "outputs": [
    {
     "name": "stdout",
     "output_type": "stream",
     "text": [
      "[4, 5]\n"
     ]
    }
   ],
   "source": [
    "l1=[4,5,9,10,28]\n",
    "l2=[4,5,12,20,30]\n",
    "l3=[]\n",
    "for i in l1:\n",
    "    for j in l2:\n",
    "        if i==j:\n",
    "            l3.append(i)\n",
    "print(l3)"
   ]
  },
  {
   "cell_type": "code",
   "execution_count": 13,
   "id": "5c65bebc",
   "metadata": {},
   "outputs": [
    {
     "name": "stdout",
     "output_type": "stream",
     "text": [
      "yes\n"
     ]
    }
   ],
   "source": [
    "def isAnagram(s1,s2):\n",
    "    s1=sorted(s1)\n",
    "    s2=sorted(s2)\n",
    "    if s1==s2:\n",
    "        print('yes')\n",
    "    else:\n",
    "        print('no')\n",
    "        \n",
    "s1='Kunal'\n",
    "s2='unlKa'\n",
    "isAnagram(s1,s2)"
   ]
  },
  {
   "cell_type": "code",
   "execution_count": 14,
   "id": "ffae7a1a",
   "metadata": {},
   "outputs": [
    {
     "name": "stdout",
     "output_type": "stream",
     "text": [
      "XYZ\n",
      "XZY\n",
      "YXZ\n",
      "YZX\n",
      "ZYX\n",
      "ZXY\n"
     ]
    }
   ],
   "source": [
    "def toString(List):\n",
    "    return ''.join(List)\n",
    "\n",
    "#a=string\n",
    "#l=starting index\n",
    "#r=ending index\n",
    "def permute(a,l,r):\n",
    "    if l==r:\n",
    "        print(toString(a))\n",
    "    else:\n",
    "        for i in range(l,r+1):\n",
    "            a[l],a[i]=a[i],a[l]\n",
    "            permute(a,l+1,r)\n",
    "            #backtrack\n",
    "            a[l],a[i]=a[i],a[l]\n",
    "            \n",
    "s=\"XYZ\"\n",
    "n=len(s)\n",
    "a=list(s)\n",
    "permute(a,0,n-1)"
   ]
  },
  {
   "cell_type": "code",
   "execution_count": 15,
   "id": "9cffbeb4",
   "metadata": {},
   "outputs": [
    {
     "name": "stdout",
     "output_type": "stream",
     "text": [
      "1 1 2 3 5 "
     ]
    }
   ],
   "source": [
    "def fib(n):\n",
    "    if n<=1:\n",
    "        return n\n",
    "    else:\n",
    "        return fib(n-1)+fib(n-2)\n",
    "    \n",
    "n=5\n",
    "for i in range(1,n+1):\n",
    "    print(fib(i),end=\" \")"
   ]
  },
  {
   "cell_type": "code",
   "execution_count": 16,
   "id": "e76de91b",
   "metadata": {},
   "outputs": [
    {
     "name": "stdout",
     "output_type": "stream",
     "text": [
      "10\n"
     ]
    }
   ],
   "source": [
    "import statistics\n",
    "l=[4,5,9,10,28,12,20]\n",
    "res=statistics.median(l)\n",
    "print(res)"
   ]
  },
  {
   "cell_type": "code",
   "execution_count": 17,
   "id": "abe47254",
   "metadata": {},
   "outputs": [
    {
     "name": "stdout",
     "output_type": "stream",
     "text": [
      "Not in sorted order\n"
     ]
    }
   ],
   "source": [
    "l=[9,4,5,28,10,20,12,7]\n",
    "l1=l.sort()\n",
    "if l==l1:\n",
    "    print(\"In sorted order\")\n",
    "else:\n",
    "    print(\"Not in sorted order\")"
   ]
  },
  {
   "cell_type": "code",
   "execution_count": 18,
   "id": "2c631a8f",
   "metadata": {},
   "outputs": [
    {
     "name": "stdout",
     "output_type": "stream",
     "text": [
      "[4, 5]\n"
     ]
    }
   ],
   "source": [
    "l1=[4,5,9,10,28]\n",
    "l2=[4,5,12,20,30]\n",
    "l3=[]\n",
    "for i in l1:\n",
    "    for j in l2:\n",
    "        if i==j:\n",
    "            l3.append(i)\n",
    "print(l3)"
   ]
  },
  {
   "cell_type": "code",
   "execution_count": 19,
   "id": "867dcba5",
   "metadata": {},
   "outputs": [
    {
     "name": "stdout",
     "output_type": "stream",
     "text": [
      "57\n"
     ]
    }
   ],
   "source": [
    "def maximumSubarray(arr):\n",
    "    n=len(arr)\n",
    "    maxSum=-1e8\n",
    "    current_sum=0\n",
    "    for i in range(0,n):\n",
    "        current_sum=current_sum+arr[i]\n",
    "        if(current_sum>maxSum):\n",
    "            maxSum=current_sum\n",
    "        if current_sum<0:\n",
    "            current_sum=0\n",
    "    return maxSum\n",
    "\n",
    "l=[4,5,-2,3,9,10,28]\n",
    "print(maximumSubarray(l))"
   ]
  },
  {
   "cell_type": "code",
   "execution_count": 20,
   "id": "edd03b68",
   "metadata": {},
   "outputs": [
    {
     "name": "stdout",
     "output_type": "stream",
     "text": [
      "Knlggrwl\n"
     ]
    }
   ],
   "source": [
    "s=\"KunalAggarwal\"\n",
    "vowels=['a','e','i','o','u']\n",
    "res=[i for i in s if i.lower() not in vowels]\n",
    "res=''.join(res)\n",
    "print(res)"
   ]
  },
  {
   "cell_type": "code",
   "execution_count": 21,
   "id": "e960cb42",
   "metadata": {},
   "outputs": [
    {
     "name": "stdout",
     "output_type": "stream",
     "text": [
      "python in coding love I\n"
     ]
    }
   ],
   "source": [
    "s=\"I love coding in python\"\n",
    "s1=s.split(' ')\n",
    "new_s=[]\n",
    "for i in s1:\n",
    "    new_s.insert(0,i)\n",
    "print(\" \".join(new_s))"
   ]
  },
  {
   "cell_type": "code",
   "execution_count": 22,
   "id": "9702f5f3",
   "metadata": {},
   "outputs": [
    {
     "name": "stdout",
     "output_type": "stream",
     "text": [
      "yes\n"
     ]
    }
   ],
   "source": [
    "def isAnagram(s1,s2):\n",
    "    s1=sorted(s1)\n",
    "    s2=sorted(s2)\n",
    "    if s1==s2:\n",
    "        print('yes')\n",
    "    else:\n",
    "        print('no')\n",
    "        \n",
    "s1='Kunal'\n",
    "s2='unlKa'\n",
    "isAnagram(s1,s2)"
   ]
  },
  {
   "cell_type": "code",
   "execution_count": 23,
   "id": "10bdec30",
   "metadata": {},
   "outputs": [
    {
     "name": "stdout",
     "output_type": "stream",
     "text": [
      "y\n"
     ]
    }
   ],
   "source": [
    "from collections import Counter\n",
    "def nonRepeated(s):\n",
    "    freq=Counter(s)\n",
    "    for i in s:\n",
    "        if(freq[i]==1):\n",
    "            print(i)\n",
    "            break\n",
    "\n",
    "s=\"mynameiskunalaggarwal\"\n",
    "nonRepeated(s)"
   ]
  },
  {
   "cell_type": "code",
   "execution_count": 24,
   "id": "b9c368af",
   "metadata": {},
   "outputs": [
    {
     "name": "stdout",
     "output_type": "stream",
     "text": [
      "2 3 "
     ]
    }
   ],
   "source": [
    "n=72\n",
    "l=[]\n",
    "for i in range(2,n+1):\n",
    "    if(n%i==0):\n",
    "        isPrime=1\n",
    "        for j in range(2,i//2 + 1):\n",
    "            if(i%j==0):\n",
    "                isPrime=0\n",
    "                break\n",
    "        if(isPrime==1):\n",
    "            print(i,end=\" \")"
   ]
  },
  {
   "cell_type": "code",
   "execution_count": 25,
   "id": "8e6b879f",
   "metadata": {},
   "outputs": [
    {
     "name": "stdout",
     "output_type": "stream",
     "text": [
      "True\n",
      "False\n"
     ]
    }
   ],
   "source": [
    "def powerof2(n):\n",
    "    if n==1:\n",
    "        return True\n",
    "    elif n%2!=0 or n==0:\n",
    "        return False\n",
    "    return powerof2(n//2)\n",
    "print(powerof2(32))\n",
    "print(powerof2(30))"
   ]
  },
  {
   "cell_type": "code",
   "execution_count": 26,
   "id": "06d300e2",
   "metadata": {},
   "outputs": [
    {
     "name": "stdout",
     "output_type": "stream",
     "text": [
      "[1, 2, 3, 4, 5, 6, 7, 8, 9, 10]\n"
     ]
    }
   ],
   "source": [
    "l1=[1,2,3,4,5]\n",
    "l2=[6,7,8,9,10]\n",
    "l3=l1+l2\n",
    "print(l3)"
   ]
  },
  {
   "cell_type": "code",
   "execution_count": 27,
   "id": "5f193b20",
   "metadata": {},
   "outputs": [
    {
     "name": "stdout",
     "output_type": "stream",
     "text": [
      "Counter({3: 3, 2: 2, 6: 2, 1: 1, 4: 1, 5: 1, 7: 1})\n",
      "3\n"
     ]
    }
   ],
   "source": [
    "from collections import Counter\n",
    "l=[1,2,2,3,3,3,4,5,6,6,7]\n",
    "count=Counter(l)\n",
    "print(count)\n",
    "v=max(count.values())\n",
    "print(v)"
   ]
  },
  {
   "cell_type": "code",
   "execution_count": 28,
   "id": "8ffdc335",
   "metadata": {},
   "outputs": [
    {
     "data": {
      "text/plain": [
       "4"
      ]
     },
     "execution_count": 28,
     "metadata": {},
     "output_type": "execute_result"
    }
   ],
   "source": [
    "def gcd(a,b):\n",
    "    while(a>0 and b>0):\n",
    "        if(a>b):\n",
    "            a=a%b\n",
    "        else:\n",
    "            b=b%a\n",
    "    if(a==0):\n",
    "        return b\n",
    "    return a\n",
    "a=20\n",
    "b=12\n",
    "gcd(a,b)"
   ]
  },
  {
   "cell_type": "code",
   "execution_count": 29,
   "id": "0376c727",
   "metadata": {},
   "outputs": [
    {
     "data": {
      "text/plain": [
       "9.0"
      ]
     },
     "execution_count": 29,
     "metadata": {},
     "output_type": "execute_result"
    }
   ],
   "source": [
    "import math\n",
    "def root(n):\n",
    "    return math.sqrt(n)\n",
    "\n",
    "root(81)"
   ]
  },
  {
   "cell_type": "code",
   "execution_count": 30,
   "id": "8b75c8fc",
   "metadata": {},
   "outputs": [
    {
     "name": "stdout",
     "output_type": "stream",
     "text": [
      "Sring is not palindrome\n"
     ]
    }
   ],
   "source": [
    "def isPalindrome(s):\n",
    "    return s==s[::-1]\n",
    "\n",
    "s=\"Kunal\"\n",
    "res=isPalindrome(s)\n",
    "if res:\n",
    "    print(\"String is palindrome\")\n",
    "else:\n",
    "    print(\"Sring is not palindrome\")"
   ]
  },
  {
   "cell_type": "code",
   "execution_count": 31,
   "id": "d0406cb9",
   "metadata": {},
   "outputs": [
    {
     "name": "stdout",
     "output_type": "stream",
     "text": [
      "4\n"
     ]
    }
   ],
   "source": [
    "def findMin(l,n):\n",
    "    min_num=l[0]\n",
    "    for i in range(n):\n",
    "        if l[i]<min_num:\n",
    "            min_num=l[i]\n",
    "    return min_num\n",
    "\n",
    "l=[4,5,9,28,10,20,12]\n",
    "n=len(l)\n",
    "print(findMin(l,n))"
   ]
  },
  {
   "cell_type": "code",
   "execution_count": 32,
   "id": "a6275ab4",
   "metadata": {},
   "outputs": [
    {
     "name": "stdout",
     "output_type": "stream",
     "text": [
      "20\n"
     ]
    }
   ],
   "source": [
    "l=[1,2,3,4,5,6,7,8,9]\n",
    "even_l=[]\n",
    "for i in l:\n",
    "    if i%2==0:\n",
    "        even_l.append(i)\n",
    "print(sum(even_l))"
   ]
  },
  {
   "cell_type": "code",
   "execution_count": 33,
   "id": "b2f4c4b1",
   "metadata": {},
   "outputs": [
    {
     "name": "stdout",
     "output_type": "stream",
     "text": [
      "25\n"
     ]
    }
   ],
   "source": [
    "def power(n,p):\n",
    "    if p==0:\n",
    "        return 1\n",
    "    return (n*power(n,p-1))\n",
    "\n",
    "n=5\n",
    "p=2\n",
    "print(power(n,p))"
   ]
  },
  {
   "cell_type": "code",
   "execution_count": 34,
   "id": "4068168d",
   "metadata": {},
   "outputs": [
    {
     "data": {
      "text/plain": [
       "{1, 2, 3, 4, 5}"
      ]
     },
     "execution_count": 34,
     "metadata": {},
     "output_type": "execute_result"
    }
   ],
   "source": [
    "def duplicate(l):\n",
    "    return set(l)\n",
    "\n",
    "l=[1,2,2,3,3,3,4,5]\n",
    "duplicate(l)"
   ]
  },
  {
   "cell_type": "code",
   "execution_count": 35,
   "id": "d534f98c",
   "metadata": {},
   "outputs": [
    {
     "name": "stdout",
     "output_type": "stream",
     "text": [
      "The longest Common Prefix is : ap\n"
     ]
    }
   ],
   "source": [
    "def longestCommonPrefix( a):\n",
    "    size = len(a)\n",
    "    if (size == 0):\n",
    "        return \"\"\n",
    "\n",
    "    if (size == 1):\n",
    "        return a[0]\n",
    "    a.sort()\n",
    "    end = min(len(a[0]), len(a[size - 1]))\n",
    "\n",
    "    i = 0\n",
    "    while (i < end and\n",
    "        a[0][i] == a[size - 1][i]):\n",
    "        i += 1\n",
    "\n",
    "    pre = a[0][0: i]\n",
    "    return pre\n",
    "\n",
    "input = [\"apple\",\"ape\",\"april\"]\n",
    "print(\"The longest Common Prefix is :\" ,longestCommonPrefix(input))"
   ]
  },
  {
   "cell_type": "code",
   "execution_count": 36,
   "id": "7b28ee5c",
   "metadata": {},
   "outputs": [
    {
     "name": "stdout",
     "output_type": "stream",
     "text": [
      "Perfect Square\n"
     ]
    }
   ],
   "source": [
    "import math\n",
    "def perfectSquare(n):\n",
    "    if(math.ceil(math.sqrt(n))==math.floor(math.sqrt(n))):\n",
    "        print(\"Perfect Square\")\n",
    "    else:\n",
    "        print(\"Not a perfect square\")\n",
    "        \n",
    "perfectSquare(64)"
   ]
  },
  {
   "cell_type": "code",
   "execution_count": 37,
   "id": "4e9c02d5",
   "metadata": {},
   "outputs": [
    {
     "name": "stdout",
     "output_type": "stream",
     "text": [
      "120\n"
     ]
    }
   ],
   "source": [
    "l=[1,2,3,4,5]\n",
    "res=1\n",
    "for i in range(1,len(l)):\n",
    "    res=res*l[i]\n",
    "print(res)"
   ]
  },
  {
   "cell_type": "code",
   "execution_count": 38,
   "id": "7f739404",
   "metadata": {},
   "outputs": [
    {
     "name": "stdout",
     "output_type": "stream",
     "text": [
      "python in coding love I\n"
     ]
    }
   ],
   "source": [
    "s=\"I love coding in python\"\n",
    "s1=s.split(' ')\n",
    "new_s=[]\n",
    "for i in s1:\n",
    "    new_s.insert(0,i)\n",
    "print(\" \".join(new_s))"
   ]
  },
  {
   "cell_type": "code",
   "execution_count": 39,
   "id": "af8a6da1",
   "metadata": {},
   "outputs": [
    {
     "name": "stdout",
     "output_type": "stream",
     "text": [
      "6\n"
     ]
    }
   ],
   "source": [
    "def MissingNo(l, n):\n",
    "    x1 = l[0]\n",
    "    x2 = 1\n",
    "     \n",
    "    for i in range(1, n):\n",
    "        x1 = x1 ^ l[i]\n",
    "         \n",
    "    for i in range(2, n + 2):\n",
    "        x2 = x2 ^ i\n",
    "     \n",
    "    return x1 ^ x2\n",
    "\n",
    "l=[1,2,5,3,4,7]\n",
    "ans=MissingNo(l,n)\n",
    "print(ans)"
   ]
  },
  {
   "cell_type": "code",
   "execution_count": 40,
   "id": "cda52e25",
   "metadata": {},
   "outputs": [
    {
     "name": "stdout",
     "output_type": "stream",
     "text": [
      "9\n"
     ]
    }
   ],
   "source": [
    "def Sum(n):\n",
    "    add=0\n",
    "    while(n!=0):\n",
    "        add=add+int(n%10)\n",
    "        n=n//10\n",
    "    return add\n",
    "\n",
    "n=540\n",
    "print(Sum(n))"
   ]
  },
  {
   "cell_type": "code",
   "execution_count": 41,
   "id": "085d11a9",
   "metadata": {},
   "outputs": [
    {
     "name": "stdout",
     "output_type": "stream",
     "text": [
      "True\n"
     ]
    }
   ],
   "source": [
    "def isPalindrome(s):\n",
    "    s=''.join(i.lower() for i in s if i.isalnum())\n",
    "    reversed_str=s[::-1]\n",
    "    return s==reversed_str\n",
    "\n",
    "s=\"racecar\"\n",
    "print(isPalindrome(s))"
   ]
  },
  {
   "cell_type": "code",
   "execution_count": 42,
   "id": "675f6a8a",
   "metadata": {},
   "outputs": [
    {
     "name": "stdout",
     "output_type": "stream",
     "text": [
      "2\n"
     ]
    }
   ],
   "source": [
    "def smallest_positive(a,n):\n",
    "    for i in range(n):\n",
    "        while(a[i]>0 and a[i]<=n and a[i]!=a[a[i]-1]):\n",
    "            temp=a[a[i]-1]\n",
    "            a[a[i]-1]=a[i]\n",
    "            a[i]=temp\n",
    "        for i in range(n):\n",
    "            if a[i]!=(i+1):\n",
    "                return i+1\n",
    "        return n+1\n",
    "    \n",
    "a=[1,3,4,5,-7,8,-10,13]\n",
    "n=len(a)\n",
    "print(smallest_positive(a,n))"
   ]
  },
  {
   "cell_type": "code",
   "execution_count": 43,
   "id": "bb5a5158",
   "metadata": {},
   "outputs": [
    {
     "name": "stdout",
     "output_type": "stream",
     "text": [
      "cbefebc\n"
     ]
    }
   ],
   "source": [
    "def longestPalindrome(s: str) -> str:\n",
    "    length = len(s)\n",
    "    index = -1\n",
    "    maxlength = 0\n",
    "    for i in range(length):\n",
    "        for j in range(i, length):\n",
    "            ispalindrome = 1\n",
    "            for k in range(0, ((j - i) // 2) + 1):\n",
    "                if s[i + k] != s[j - k]:\n",
    "                    ispalindrome = 0 \n",
    "            if ispalindrome != 0 and j - i + 1 > maxlength:\n",
    "                index = i\n",
    "                maxlength = j - i + 1\n",
    "    return s[index:index + maxlength]\n",
    "\n",
    "word = \"abcbefebcda\"\n",
    "print(longestPalindrome(word))\n"
   ]
  },
  {
   "cell_type": "code",
   "execution_count": 44,
   "id": "7cc4399f",
   "metadata": {},
   "outputs": [
    {
     "name": "stdout",
     "output_type": "stream",
     "text": [
      "3\n"
     ]
    }
   ],
   "source": [
    "l=[1,2,2,3,3,3,4,5,6,7,7]\n",
    "n=3\n",
    "print(l.count(3))"
   ]
  },
  {
   "cell_type": "code",
   "execution_count": 45,
   "id": "b6e7b6f7",
   "metadata": {},
   "outputs": [
    {
     "name": "stdout",
     "output_type": "stream",
     "text": [
      "Perfect number\n"
     ]
    }
   ],
   "source": [
    "n=496\n",
    "add=0\n",
    "for i in range(1,n):\n",
    "    if(n%i==0):\n",
    "        add+=i\n",
    "if(add==n):\n",
    "    print(\"Perfect number\")\n",
    "else:\n",
    "    print(\"Not a perfect number\")"
   ]
  },
  {
   "cell_type": "code",
   "execution_count": 46,
   "id": "9a528184",
   "metadata": {},
   "outputs": [
    {
     "data": {
      "text/plain": [
       "{1, 2, 3, 4, 5}"
      ]
     },
     "execution_count": 46,
     "metadata": {},
     "output_type": "execute_result"
    }
   ],
   "source": [
    "def duplicate(l):\n",
    "    return set(l)\n",
    "\n",
    "l=[1,2,2,3,3,3,4,5]\n",
    "duplicate(l)"
   ]
  },
  {
   "cell_type": "code",
   "execution_count": 1,
   "id": "beb0eba1",
   "metadata": {},
   "outputs": [
    {
     "name": "stdout",
     "output_type": "stream",
     "text": [
      "2\n"
     ]
    }
   ],
   "source": [
    "def smallest_positive(a,n):\n",
    "    for i in range(n):\n",
    "        while(a[i]>0 and a[i]<=n and a[i]!=a[a[i]-1]):\n",
    "            temp=a[a[i]-1]\n",
    "            a[a[i]-1]=a[i]\n",
    "            a[i]=temp\n",
    "        for i in range(n):\n",
    "            if a[i]!=(i+1):\n",
    "                return i+1\n",
    "        return n+1\n",
    "    \n",
    "a=[1,3,4,5,-7,8,-10,13]\n",
    "n=len(a)\n",
    "print(smallest_positive(a,n))"
   ]
  }
 ],
 "metadata": {
  "kernelspec": {
   "display_name": "Python 3 (ipykernel)",
   "language": "python",
   "name": "python3"
  },
  "language_info": {
   "codemirror_mode": {
    "name": "ipython",
    "version": 3
   },
   "file_extension": ".py",
   "mimetype": "text/x-python",
   "name": "python",
   "nbconvert_exporter": "python",
   "pygments_lexer": "ipython3",
   "version": "3.9.13"
  }
 },
 "nbformat": 4,
 "nbformat_minor": 5
}
